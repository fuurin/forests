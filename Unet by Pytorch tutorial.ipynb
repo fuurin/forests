{
 "cells": [
  {
   "cell_type": "markdown",
   "metadata": {},
   "source": [
    "Reference  \n",
    "https://lp-tech.net/articles/hzfn7\n",
    "    "
   ]
  },
  {
   "cell_type": "markdown",
   "metadata": {},
   "source": [
    "パッチ分割用ソースコードはimagePatcherSemSeg.py\n",
    "\n",
    "``` \n",
    "$ python imagePatcherSemSeg.py ./datasets/wM1 500 ./results/ wM\n",
    "```\n",
    "\n",
    "のようにして実行するとモザイク画像をパッチに分割し，かつセグメンテーションもしてくれる．  \n",
    "このデータセットを使って学習をするのかと？"
   ]
  },
  {
   "cell_type": "markdown",
   "metadata": {},
   "source": [
    "Pytorch による画像セグメンテーション  \n",
    "データセットは https://www.kaggle.com/c/carvana-image-masking-challenge/data  \n",
    "kaggleアカウント作って電話番号とかでVerifyして色々めんどいけどなんとか．"
   ]
  },
  {
   "cell_type": "markdown",
   "metadata": {},
   "source": [
    "PytorchのインストールはURLから．  \n",
    "https://pytorch.org/ を参照  \n",
    "``` \n",
    "$ pip3 install https://download.pytorch.org/whl/cpu/torch-1.1.0-cp37-cp37m-win_amd64.whl\n",
    "```"
   ]
  },
  {
   "cell_type": "markdown",
   "metadata": {},
   "source": [
    "PydensecrfはpipでインストールしようとするとEigenとかいうC++のライブラリでつっかかることがある．その場合は，  \n",
    "- venvを使っているならアクティベート\n",
    "- https://github.com/lucasb-eyer/pydensecrf をクローン  \n",
    "- http://eigen.tuxfamily.org/index.php?title=Main_Page から最新のEigenライブラリをダウンロードし，解凍\n",
    "- 解凍した中に入っているEigenディレクトリを，pydensecrf/pydensecrf/densecrf/include/Eigenに上書き\n",
    "- pydensecrfディレクトリの直下で，python setup.py install\n",
    "- これにてインストール成功  \n",
    "  \n",
    "参考: https://github.com/lucasb-eyer/pydensecrf/issues/69"
   ]
  },
  {
   "cell_type": "code",
   "execution_count": 1,
   "metadata": {},
   "outputs": [],
   "source": [
    "import sys, os, numpy as np\n",
    "from optparse import OptionParser\n",
    "\n",
    "import torch\n",
    "import torch.backends.cudnn as cudnn\n",
    "import torch.nn as nn\n",
    "import torch.nn.functional as F\n",
    "from torch import optim\n",
    "import torchvision.transforms as transforms\n",
    "from torch.autograd import Function, Variable\n",
    "\n",
    "from tqdm import tqdm\n",
    "import pydensecrf.densecrf as dcrf\n",
    "import random\n",
    "from PIL import Image\n",
    "import matplotlib.pyplot as plt\n",
    "%matplotlib inline"
   ]
  }
 ],
 "metadata": {
  "kernelspec": {
   "display_name": "Python 3",
   "language": "python",
   "name": "python3"
  },
  "language_info": {
   "codemirror_mode": {
    "name": "ipython",
    "version": 3
   },
   "file_extension": ".py",
   "mimetype": "text/x-python",
   "name": "python",
   "nbconvert_exporter": "python",
   "pygments_lexer": "ipython3",
   "version": "3.7.3"
  }
 },
 "nbformat": 4,
 "nbformat_minor": 2
}
